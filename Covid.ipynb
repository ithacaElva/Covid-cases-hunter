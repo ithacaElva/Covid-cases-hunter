{
 "cells": [
  {
   "cell_type": "code",
   "execution_count": 1,
   "id": "f625b943",
   "metadata": {
    "_cell_guid": "b1076dfc-b9ad-4769-8c92-a6c4dae69d19",
    "_uuid": "8f2839f25d086af736a60e9eeb907d3b93b6e0e5",
    "execution": {
     "iopub.execute_input": "2021-12-08T01:20:33.697700Z",
     "iopub.status.busy": "2021-12-08T01:20:33.696818Z",
     "iopub.status.idle": "2021-12-08T01:20:33.709983Z",
     "shell.execute_reply": "2021-12-08T01:20:33.707691Z",
     "shell.execute_reply.started": "2021-12-08T01:02:35.587729Z"
    },
    "papermill": {
     "duration": 0.04879,
     "end_time": "2021-12-08T01:20:33.710315",
     "exception": false,
     "start_time": "2021-12-08T01:20:33.661525",
     "status": "completed"
    },
    "tags": []
   },
   "outputs": [
    {
     "name": "stdout",
     "output_type": "stream",
     "text": [
      "/kaggle/input/cs-4780-covid-case-hunters/covid_dataset.pkl\n",
      "/kaggle/input/cs-4780-covid-case-hunters/load_data.py\n",
      "/kaggle/input/cs-4780-covid-case-hunters/submit.py\n",
      "/kaggle/input/cs-4780-covid-case-hunters/dummy_predictions.csv\n"
     ]
    }
   ],
   "source": [
    "# This Python 3 environment comes with many helpful analytics libraries installed\n",
    "# It is defined by the kaggle/python Docker image: https://github.com/kaggle/docker-python\n",
    "# For example, here's several helpful packages to load\n",
    "\n",
    "import numpy as np # linear algebra\n",
    "import pandas as pd # data processing, CSV file I/O (e.g. pd.read_csv)\n",
    "\n",
    "# Input data files are available in the read-only \"../input/\" directory\n",
    "# For example, running this (by clicking run or pressing Shift+Enter) will list all files under the input directory\n",
    "\n",
    "import os\n",
    "for dirname, _, filenames in os.walk('/kaggle/input'):\n",
    "    for filename in filenames:\n",
    "        print(os.path.join(dirname, filename))\n",
    "\n",
    "# You can write up to 20GB to the current directory (/kaggle/working/) that gets preserved as output when you create a version using \"Save & Run All\" \n",
    "# You can also write temporary files to /kaggle/temp/, but they won't be saved outside of the current session"
   ]
  },
  {
   "cell_type": "code",
   "execution_count": 2,
   "id": "2f9e6597",
   "metadata": {
    "execution": {
     "iopub.execute_input": "2021-12-08T01:20:33.769058Z",
     "iopub.status.busy": "2021-12-08T01:20:33.768198Z",
     "iopub.status.idle": "2021-12-08T01:20:36.550252Z",
     "shell.execute_reply": "2021-12-08T01:20:36.549648Z",
     "shell.execute_reply.started": "2021-12-08T01:02:35.599711Z"
    },
    "papermill": {
     "duration": 2.815789,
     "end_time": "2021-12-08T01:20:36.550436",
     "exception": false,
     "start_time": "2021-12-08T01:20:33.734647",
     "status": "completed"
    },
    "tags": []
   },
   "outputs": [
    {
     "data": {
      "text/html": [
       "<style type='text/css'>\n",
       ".datatable table.frame { margin-bottom: 0; }\n",
       ".datatable table.frame thead { border-bottom: none; }\n",
       ".datatable table.frame tr.coltypes td {  color: #FFFFFF;  line-height: 6px;  padding: 0 0.5em;}\n",
       ".datatable .bool    { background: #DDDD99; }\n",
       ".datatable .object  { background: #565656; }\n",
       ".datatable .int     { background: #5D9E5D; }\n",
       ".datatable .float   { background: #4040CC; }\n",
       ".datatable .str     { background: #CC4040; }\n",
       ".datatable .time    { background: #40CC40; }\n",
       ".datatable .row_index {  background: var(--jp-border-color3);  border-right: 1px solid var(--jp-border-color0);  color: var(--jp-ui-font-color3);  font-size: 9px;}\n",
       ".datatable .frame tbody td { text-align: left; }\n",
       ".datatable .frame tr.coltypes .row_index {  background: var(--jp-border-color0);}\n",
       ".datatable th:nth-child(2) { padding-left: 12px; }\n",
       ".datatable .hellipsis {  color: var(--jp-cell-editor-border-color);}\n",
       ".datatable .vellipsis {  background: var(--jp-layout-color0);  color: var(--jp-cell-editor-border-color);}\n",
       ".datatable .na {  color: var(--jp-cell-editor-border-color);  font-size: 80%;}\n",
       ".datatable .sp {  opacity: 0.25;}\n",
       ".datatable .footer { font-size: 9px; }\n",
       ".datatable .frame_dimensions {  background: var(--jp-border-color3);  border-top: 1px solid var(--jp-border-color0);  color: var(--jp-ui-font-color3);  display: inline-block;  opacity: 0.6;  padding: 1px 10px 1px 5px;}\n",
       ".datatable .frame thead tr.colnames {  background-image: url('data:image/png;base64,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');  background-repeat: repeat-x;  background-size: 14px;  height: 28px;}\n",
       "</style>\n"
      ],
      "text/plain": [
       "<IPython.core.display.HTML object>"
      ]
     },
     "metadata": {},
     "output_type": "display_data"
    }
   ],
   "source": [
    "import pickle\n",
    "import pandas as pd \n",
    "from sklearn import tree\n",
    "import numpy as np\n",
    "from sklearn.impute import SimpleImputer\n",
    "from sklearn.linear_model import LinearRegression\n",
    "from sklearn.metrics import mean_squared_error\n",
    "from sklearn.ensemble import RandomForestClassifier, RandomForestRegressor, ExtraTreesRegressor, GradientBoostingRegressor\n",
    "import xgboost as xgb\n",
    "from sklearn.tree import DecisionTreeRegressor\n",
    "import lightgbm as lgb\n",
    "from lightgbm import LGBMRegressor\n",
    "from sklearn.model_selection import cross_val_score\n",
    "import matplotlib.pyplot as plt\n",
    "from sklearn import preprocessing\n",
    "from sklearn.model_selection import GridSearchCV, KFold\n",
    "import seaborn as sns\n",
    "from sklearn.preprocessing import OneHotEncoder,MinMaxScaler"
   ]
  },
  {
   "cell_type": "code",
   "execution_count": 3,
   "id": "62df01af",
   "metadata": {
    "execution": {
     "iopub.execute_input": "2021-12-08T01:20:36.602294Z",
     "iopub.status.busy": "2021-12-08T01:20:36.601577Z",
     "iopub.status.idle": "2021-12-08T01:20:36.614509Z",
     "shell.execute_reply": "2021-12-08T01:20:36.615085Z",
     "shell.execute_reply.started": "2021-12-08T01:02:38.020713Z"
    },
    "papermill": {
     "duration": 0.043505,
     "end_time": "2021-12-08T01:20:36.615290",
     "exception": false,
     "start_time": "2021-12-08T01:20:36.571785",
     "status": "completed"
    },
    "tags": []
   },
   "outputs": [],
   "source": [
    "F = open(r'/kaggle/input/cs-4780-covid-case-hunters/covid_dataset.pkl','rb')\n",
    "covid_data = pickle.load(F)\n",
    "#covid_data\n",
    "X_train,y_train_log_pos_cases = covid_data['X_train'], covid_data['y_train_log_pos_cases'] \n",
    "#X_train: 91 x 23;  y_train_log_pos_cases:91 x 1\n",
    "X_val, y_val_log_pos_cases = covid_data['X_val'], covid_data['y_val_log_pos_cases'] \n",
    "# X_val: 31 x 23; y_val_log_pos_cases: 31 x 1\n",
    "X_test = covid_data['X_test'] \n",
    "# X_test: 61 x 23"
   ]
  },
  {
   "cell_type": "code",
   "execution_count": 4,
   "id": "63687b98",
   "metadata": {
    "execution": {
     "iopub.execute_input": "2021-12-08T01:20:36.662877Z",
     "iopub.status.busy": "2021-12-08T01:20:36.662187Z",
     "iopub.status.idle": "2021-12-08T01:20:36.682000Z",
     "shell.execute_reply": "2021-12-08T01:20:36.682569Z",
     "shell.execute_reply.started": "2021-12-08T01:02:38.036549Z"
    },
    "papermill": {
     "duration": 0.045313,
     "end_time": "2021-12-08T01:20:36.682760",
     "exception": false,
     "start_time": "2021-12-08T01:20:36.637447",
     "status": "completed"
    },
    "tags": []
   },
   "outputs": [],
   "source": [
    "X_train = pd.DataFrame(X_train)\n",
    "X_val = pd.DataFrame(X_val)\n",
    "X_test = pd.DataFrame(X_test)\n",
    "X_train.columns = [u'Region',u'Population',u'Area',u'Pop.Density',u'Coastline',u'Net_migration',u'Infant_mortality',\n",
    "                  u'GDP',u'Literacy',u'Phones',u'Arable',u'Crops',u'Other',u'Birthrate',u'Deathrate',\n",
    "                  u'Agriculture',u'Industry',u'Service',u'Handwashing_Facilities',u'Extreme_poverty',u'Median_age',u'Life_expectancy',\n",
    "                   u'Human_development_index']  \n",
    "X_val.columns = [u'Region',u'Population',u'Area',u'Pop.Density',u'Coastline',u'Net_migration',u'Infant_mortality',\n",
    "                  u'GDP',u'Literacy',u'Phones',u'Arable',u'Crops',u'Other',u'Birthrate',u'Deathrate',\n",
    "                  u'Agriculture',u'Industry',u'Service',u'Handwashing_Facilities',u'Extreme_poverty',u'Median_age',u'Life_expectancy',\n",
    "                   u'Human_development_index'] \n",
    "X_test.columns = [u'Region',u'Population',u'Area',u'Pop.Density',u'Coastline',u'Net_migration',u'Infant_mortality',\n",
    "                  u'GDP',u'Literacy',u'Phones',u'Arable',u'Crops',u'Other',u'Birthrate',u'Deathrate',\n",
    "                  u'Agriculture',u'Industry',u'Service',u'Handwashing_Facilities',u'Extreme_poverty',u'Median_age',u'Life_expectancy',\n",
    "                   u'Human_development_index'] "
   ]
  },
  {
   "cell_type": "code",
   "execution_count": 5,
   "id": "23c5dc86",
   "metadata": {
    "execution": {
     "iopub.execute_input": "2021-12-08T01:20:36.731589Z",
     "iopub.status.busy": "2021-12-08T01:20:36.730894Z",
     "iopub.status.idle": "2021-12-08T01:20:36.737112Z",
     "shell.execute_reply": "2021-12-08T01:20:36.738402Z",
     "shell.execute_reply.started": "2021-12-08T01:02:38.056502Z"
    },
    "papermill": {
     "duration": 0.03412,
     "end_time": "2021-12-08T01:20:36.738637",
     "exception": false,
     "start_time": "2021-12-08T01:20:36.704517",
     "status": "completed"
    },
    "tags": []
   },
   "outputs": [],
   "source": [
    "X_train=pd.DataFrame(X_train,dtype=np.float)\n",
    "X_val=pd.DataFrame(X_val,dtype=np.float)\n",
    "X_test=pd.DataFrame(X_test,dtype=np.float)"
   ]
  },
  {
   "cell_type": "markdown",
   "id": "60372727",
   "metadata": {
    "papermill": {
     "duration": 0.022566,
     "end_time": "2021-12-08T01:20:36.786011",
     "exception": false,
     "start_time": "2021-12-08T01:20:36.763445",
     "status": "completed"
    },
    "tags": []
   },
   "source": [
    "## Data Cleaing"
   ]
  },
  {
   "cell_type": "code",
   "execution_count": 6,
   "id": "21915e5f",
   "metadata": {
    "execution": {
     "iopub.execute_input": "2021-12-08T01:20:36.836923Z",
     "iopub.status.busy": "2021-12-08T01:20:36.836175Z",
     "iopub.status.idle": "2021-12-08T01:20:36.838864Z",
     "shell.execute_reply": "2021-12-08T01:20:36.839426Z",
     "shell.execute_reply.started": "2021-12-08T01:02:38.075681Z"
    },
    "papermill": {
     "duration": 0.031538,
     "end_time": "2021-12-08T01:20:36.839612",
     "exception": false,
     "start_time": "2021-12-08T01:20:36.808074",
     "status": "completed"
    },
    "tags": []
   },
   "outputs": [],
   "source": [
    "##median填充缺失值；\n",
    "# X_train['Literacy'] = X_train['Literacy'].fillna(X_train['Literacy'].median())\n",
    "# X_train['Phones'] = X_train['Phones'].fillna(X_train['Phones'].median())\n",
    "# X_train['Birthrate'] = X_train['Birthrate'].fillna(X_train['Birthrate'].median())\n",
    "# X_train['Deathrate'] = X_train['Deathrate'].fillna(X_train['Deathrate'].median())\n",
    "# X_train['Industry'] = X_train['Industry'].fillna(X_train['Industry'].median())\n",
    "# X_train['Service'] = X_train['Service'].fillna(X_train['Service'].median())\n",
    "# X_train['Handwashing_Facilities'] = X_train['Handwashing_Facilities'].fillna(X_train['Handwashing_Facilities'].median())\n",
    "# X_train['Extreme_poverty'] = X_train['Extreme_poverty'].fillna(X_train['Extreme_poverty'].median())\n",
    "# X_train['Median_age'] = X_train['Median_age'].fillna(X_train['Median_age'].median())\n",
    "# X_train['Human_development_index'] = X_train['Human_development_index'].fillna(X_train['Human_development_index'].median())\n",
    "\n",
    "# X_val['Agriculture'] = X_val['Agriculture'].fillna(X_val['Agriculture'].median())\n",
    "# X_val['Industry'] = X_val['Industry'].fillna(X_val['Industry'].median())\n",
    "# X_val['Service'] = X_val['Service'].fillna(X_val['Service'].median())\n",
    "# X_val['Handwashing_Facilities'] = X_val['Handwashing_Facilities'].fillna(X_val['Handwashing_Facilities'].median())\n",
    "# X_val['Extreme_poverty'] = X_val['Extreme_poverty'].fillna(X_val['Extreme_poverty'].median())\n",
    "# X_val['Median_age'] = X_val['Median_age'].fillna(X_val['Median_age'].median())\n",
    "# X_val['Human_development_index'] = X_val['Human_development_index'].fillna(X_val['Human_development_index'].median())\n",
    "\n",
    "# X_test['Literacy'] = X_test['Literacy'].fillna(X_test['Literacy'].median())\n",
    "# X_test['Handwashing_Facilities'] = X_test['Handwashing_Facilities'].fillna(X_test['Handwashing_Facilities'].median())\n",
    "# X_test['Extreme_poverty'] = X_test['Extreme_poverty'].fillna(X_test['Extreme_poverty'].median())\n",
    "# X_test['Median_age'] = X_test['Median_age'].fillna(X_test['Median_age'].median())"
   ]
  },
  {
   "cell_type": "code",
   "execution_count": 7,
   "id": "9c98f765",
   "metadata": {
    "execution": {
     "iopub.execute_input": "2021-12-08T01:20:36.907343Z",
     "iopub.status.busy": "2021-12-08T01:20:36.905674Z",
     "iopub.status.idle": "2021-12-08T01:20:36.919676Z",
     "shell.execute_reply": "2021-12-08T01:20:36.918970Z",
     "shell.execute_reply.started": "2021-12-08T01:02:38.087938Z"
    },
    "papermill": {
     "duration": 0.059243,
     "end_time": "2021-12-08T01:20:36.919829",
     "exception": false,
     "start_time": "2021-12-08T01:20:36.860586",
     "status": "completed"
    },
    "tags": []
   },
   "outputs": [],
   "source": [
    "X_train['Literacy'] = X_train['Literacy'].fillna(X_train['Literacy'].mean())\n",
    "X_train['Phones'] = X_train['Phones'].fillna(X_train['Phones'].mean())\n",
    "X_train['Birthrate'] = X_train['Birthrate'].fillna(X_train['Birthrate'].mean())\n",
    "X_train['Deathrate'] = X_train['Deathrate'].fillna(X_train['Deathrate'].mean())\n",
    "X_train['Industry'] = X_train['Industry'].fillna(X_train['Industry'].mean())\n",
    "X_train['Service'] = X_train['Service'].fillna(X_train['Service'].mean())\n",
    "X_train['Handwashing_Facilities'] = X_train['Handwashing_Facilities'].fillna(X_train['Handwashing_Facilities'].mean())\n",
    "X_train['Extreme_poverty'] = X_train['Extreme_poverty'].fillna(X_train['Extreme_poverty'].mean())\n",
    "X_train['Median_age'] = X_train['Median_age'].fillna(X_train['Median_age'].mean())\n",
    "X_train['Human_development_index'] = X_train['Human_development_index'].fillna(X_train['Human_development_index'].mean())\n",
    "\n",
    "X_val['Agriculture'] = X_val['Agriculture'].fillna(X_val['Agriculture'].mean())\n",
    "X_val['Industry'] = X_val['Industry'].fillna(X_val['Industry'].mean())\n",
    "X_val['Service'] = X_val['Service'].fillna(X_val['Service'].mean())\n",
    "X_val['Handwashing_Facilities'] = X_val['Handwashing_Facilities'].fillna(X_val['Handwashing_Facilities'].mean())\n",
    "X_val['Extreme_poverty'] = X_val['Extreme_poverty'].fillna(X_val['Extreme_poverty'].mean())\n",
    "X_val['Median_age'] = X_val['Median_age'].fillna(X_val['Median_age'].mean())\n",
    "X_val['Human_development_index'] = X_val['Human_development_index'].fillna(X_val['Human_development_index'].mean())\n",
    "\n",
    "X_test['Literacy'] = X_test['Literacy'].fillna(X_test['Literacy'].mean())\n",
    "X_test['Handwashing_Facilities'] = X_test['Handwashing_Facilities'].fillna(X_test['Handwashing_Facilities'].mean())\n",
    "X_test['Extreme_poverty'] = X_test['Extreme_poverty'].fillna(X_test['Extreme_poverty'].mean())\n",
    "X_test['Median_age'] = X_test['Median_age'].fillna(X_test['Median_age'].mean())"
   ]
  },
  {
   "cell_type": "code",
   "execution_count": 8,
   "id": "d96ec0df",
   "metadata": {
    "execution": {
     "iopub.execute_input": "2021-12-08T01:20:36.968834Z",
     "iopub.status.busy": "2021-12-08T01:20:36.966695Z",
     "iopub.status.idle": "2021-12-08T01:20:36.971704Z",
     "shell.execute_reply": "2021-12-08T01:20:36.971166Z",
     "shell.execute_reply.started": "2021-12-08T01:02:38.119887Z"
    },
    "papermill": {
     "duration": 0.030311,
     "end_time": "2021-12-08T01:20:36.971859",
     "exception": false,
     "start_time": "2021-12-08T01:20:36.941548",
     "status": "completed"
    },
    "tags": []
   },
   "outputs": [],
   "source": [
    "## correlation, shape"
   ]
  },
  {
   "cell_type": "code",
   "execution_count": 9,
   "id": "884fd96f",
   "metadata": {
    "execution": {
     "iopub.execute_input": "2021-12-08T01:20:37.029684Z",
     "iopub.status.busy": "2021-12-08T01:20:37.026022Z",
     "iopub.status.idle": "2021-12-08T01:20:37.034360Z",
     "shell.execute_reply": "2021-12-08T01:20:37.033784Z",
     "shell.execute_reply.started": "2021-12-08T01:02:38.127394Z"
    },
    "papermill": {
     "duration": 0.039875,
     "end_time": "2021-12-08T01:20:37.034522",
     "exception": false,
     "start_time": "2021-12-08T01:20:36.994647",
     "status": "completed"
    },
    "tags": []
   },
   "outputs": [],
   "source": [
    "encoder = OneHotEncoder(sparse=False)\n",
    "encoderd_train_feature = encoder.fit_transform(pd.DataFrame(X_train['Region']))\n",
    "encoderd_val_feature = encoder.transform(pd.DataFrame(X_val['Region']))\n",
    "encoderd_test_feature = encoder.transform(pd.DataFrame(X_test['Region']))\n",
    "encoderd_train_feature =pd.DataFrame(encoderd_train_feature)\n",
    "encoderd_val_feature =pd.DataFrame(encoderd_val_feature)\n",
    "encoderd_test_feature =pd.DataFrame(encoderd_test_feature)"
   ]
  },
  {
   "cell_type": "code",
   "execution_count": 10,
   "id": "b4624b50",
   "metadata": {
    "execution": {
     "iopub.execute_input": "2021-12-08T01:20:37.086964Z",
     "iopub.status.busy": "2021-12-08T01:20:37.086254Z",
     "iopub.status.idle": "2021-12-08T01:20:37.099009Z",
     "shell.execute_reply": "2021-12-08T01:20:37.098338Z",
     "shell.execute_reply.started": "2021-12-08T01:02:38.146484Z"
    },
    "papermill": {
     "duration": 0.042997,
     "end_time": "2021-12-08T01:20:37.099241",
     "exception": false,
     "start_time": "2021-12-08T01:20:37.056244",
     "status": "completed"
    },
    "tags": []
   },
   "outputs": [],
   "source": [
    "scaler = MinMaxScaler()\n",
    "scalerd_train_feature = scaler.fit_transform(X_train.iloc[:,1:23])\n",
    "scalerd_val_feature = scaler.transform(X_val.iloc[:,1:23])\n",
    "scalerd_test_feature = scaler.transform(X_test.iloc[:,1:23])\n",
    "scalerd_train_feature =pd.DataFrame(scalerd_train_feature)\n",
    "scalerd_val_feature =pd.DataFrame(scalerd_val_feature)\n",
    "scalerd_test_feature =pd.DataFrame(scalerd_test_feature)"
   ]
  },
  {
   "cell_type": "code",
   "execution_count": 11,
   "id": "78cb5ca0",
   "metadata": {
    "execution": {
     "iopub.execute_input": "2021-12-08T01:20:37.154512Z",
     "iopub.status.busy": "2021-12-08T01:20:37.153266Z",
     "iopub.status.idle": "2021-12-08T01:20:37.155695Z",
     "shell.execute_reply": "2021-12-08T01:20:37.156274Z",
     "shell.execute_reply.started": "2021-12-08T01:02:38.167222Z"
    },
    "papermill": {
     "duration": 0.035949,
     "end_time": "2021-12-08T01:20:37.156485",
     "exception": false,
     "start_time": "2021-12-08T01:20:37.120536",
     "status": "completed"
    },
    "tags": []
   },
   "outputs": [],
   "source": [
    "scalerd_train_feature.columns = [u'Population',u'Area',u'Pop.Density',u'Coastline',u'Net_migration',u'Infant_mortality',\n",
    "                  u'GDP',u'Literacy',u'Phones',u'Arable',u'Crops',u'Other',u'Birthrate',u'Deathrate',\n",
    "                  u'Agriculture',u'Industry',u'Service',u'Handwashing_Facilities',u'Extreme_poverty',u'Median_age',u'Life_expectancy',\n",
    "                   u'Human_development_index']  \n",
    "scalerd_val_feature.columns = [u'Population',u'Area',u'Pop.Density',u'Coastline',u'Net_migration',u'Infant_mortality',\n",
    "                  u'GDP',u'Literacy',u'Phones',u'Arable',u'Crops',u'Other',u'Birthrate',u'Deathrate',\n",
    "                  u'Agriculture',u'Industry',u'Service',u'Handwashing_Facilities',u'Extreme_poverty',u'Median_age',u'Life_expectancy',\n",
    "                   u'Human_development_index'] \n",
    "scalerd_test_feature.columns = [u'Population',u'Area',u'Pop.Density',u'Coastline',u'Net_migration',u'Infant_mortality',\n",
    "                  u'GDP',u'Literacy',u'Phones',u'Arable',u'Crops',u'Other',u'Birthrate',u'Deathrate',\n",
    "                  u'Agriculture',u'Industry',u'Service',u'Handwashing_Facilities',u'Extreme_poverty',u'Median_age',u'Life_expectancy',\n",
    "                   u'Human_development_index'] "
   ]
  },
  {
   "cell_type": "code",
   "execution_count": 12,
   "id": "65df9a1d",
   "metadata": {
    "execution": {
     "iopub.execute_input": "2021-12-08T01:20:37.205628Z",
     "iopub.status.busy": "2021-12-08T01:20:37.204550Z",
     "iopub.status.idle": "2021-12-08T01:20:37.211854Z",
     "shell.execute_reply": "2021-12-08T01:20:37.212374Z",
     "shell.execute_reply.started": "2021-12-08T01:02:38.17862Z"
    },
    "papermill": {
     "duration": 0.033487,
     "end_time": "2021-12-08T01:20:37.212597",
     "exception": false,
     "start_time": "2021-12-08T01:20:37.179110",
     "status": "completed"
    },
    "tags": []
   },
   "outputs": [],
   "source": [
    "X_train = pd.concat([encoderd_train_feature,scalerd_train_feature],axis=1)\n",
    "X_val = pd.concat([encoderd_val_feature,scalerd_val_feature],axis=1)\n",
    "X_test = pd.concat([encoderd_test_feature,scalerd_test_feature],axis=1)\n",
    "#Train = pd.concat([X_train,y_train_log_pos_cases],axis=1)\n",
    "#Train.rename(columns={0:'y_train_log_pos_cases'},inplace=True)\n",
    "#Val = pd.concat([X_val,y_val_log_pos_cases],axis=1)\n",
    "#Val.rename(columns={0:'y_val_log_pos_cases'},inplace=True)"
   ]
  },
  {
   "cell_type": "code",
   "execution_count": 13,
   "id": "2d76020a",
   "metadata": {
    "execution": {
     "iopub.execute_input": "2021-12-08T01:20:37.260831Z",
     "iopub.status.busy": "2021-12-08T01:20:37.259743Z",
     "iopub.status.idle": "2021-12-08T01:20:37.264074Z",
     "shell.execute_reply": "2021-12-08T01:20:37.264626Z",
     "shell.execute_reply.started": "2021-12-08T01:02:38.197071Z"
    },
    "papermill": {
     "duration": 0.030137,
     "end_time": "2021-12-08T01:20:37.264841",
     "exception": false,
     "start_time": "2021-12-08T01:20:37.234704",
     "status": "completed"
    },
    "tags": []
   },
   "outputs": [],
   "source": [
    "#feature selection\n",
    "#columns_sel = [0, 1, 2, 4, 5, 7, 8, 9, 'Area', 'Pop.Density',  'Population', 3, 'Crops', 10, 6,  'Agriculture', 'Infant_mortality', 'Deathrate', 'Extreme_poverty', 'Coastline', 'Handwashing_Facilities','Net_migration', 'Arable','Median_age','Life_expectancy', 'Human_development_index','Birthrate']\n",
    "#columns_sel = []\n",
    "# X_train_sel = X_train[columns_sel]\n",
    "# X_val_sel = X_val[columns_sel]\n",
    "# X_test_sel = X_test[columns_sel]\n",
    "# #X_train_sel.columns = [u'0', u'1', u'2', u'4', u'5', u'7', u'8', u'9',u'Area', u'Pop.Density',  u'Population', u'3', u'Crops', u'10', u'6',  u'Agriculture', u'Infant_mortality', u'Deathrate', u'Extreme_poverty', u'Coastline', u'Handwashing_Facilities',\n",
    "#                        u'Net_migration', u'Arable', u'Median_age', u'Life_expectancy', u'Human_development_index', u'Birthrate']"
   ]
  },
  {
   "cell_type": "code",
   "execution_count": 14,
   "id": "a58d4103",
   "metadata": {
    "execution": {
     "iopub.execute_input": "2021-12-08T01:20:37.315288Z",
     "iopub.status.busy": "2021-12-08T01:20:37.314253Z",
     "iopub.status.idle": "2021-12-08T01:20:37.318978Z",
     "shell.execute_reply": "2021-12-08T01:20:37.319472Z",
     "shell.execute_reply.started": "2021-12-08T01:02:38.208388Z"
    },
    "papermill": {
     "duration": 0.032242,
     "end_time": "2021-12-08T01:20:37.319686",
     "exception": false,
     "start_time": "2021-12-08T01:20:37.287444",
     "status": "completed"
    },
    "tags": []
   },
   "outputs": [],
   "source": [
    "# X_train_sel.columns = [u'Area', u'Pop.Density',  u'Population', u'3', u'Crops', u'10', u'6',  u'Agriculture', u'Infant_mortality', u'Deathrate', u'Extreme_poverty', u'Coastline', u'Handwashing_Facilities',\n",
    "#                        u'Net_migration', u'Arable', u'Median_age', u'Life_expectancy', u'Human_development_index', u'Birthrate']\n"
   ]
  },
  {
   "cell_type": "code",
   "execution_count": 15,
   "id": "d282270d",
   "metadata": {
    "execution": {
     "iopub.execute_input": "2021-12-08T01:20:37.372684Z",
     "iopub.status.busy": "2021-12-08T01:20:37.371681Z",
     "iopub.status.idle": "2021-12-08T01:20:37.374195Z",
     "shell.execute_reply": "2021-12-08T01:20:37.374748Z",
     "shell.execute_reply.started": "2021-12-08T01:02:38.224839Z"
    },
    "papermill": {
     "duration": 0.031869,
     "end_time": "2021-12-08T01:20:37.374986",
     "exception": false,
     "start_time": "2021-12-08T01:20:37.343117",
     "status": "completed"
    },
    "tags": []
   },
   "outputs": [],
   "source": [
    "##xgb 没选feature best so far\n",
    "# xg_reg = xgb.XGBRegressor(n_estimators=200, learning_rate=0.07, gamma=0, subsample=0.75,colsample_bytree=1, max_depth=7,\n",
    "#                           eval_metric = 'rmse', objective = 'reg:squarederror')\n",
    "# xg_reg.fit(X_train, y_train_log_pos_cases,eval_metric='rmse', verbose=True)\n",
    "# print(xg_reg.score(X_val, y_val_log_pos_cases))\n",
    "# test_pred = xg_reg.predict(X_test)"
   ]
  },
  {
   "cell_type": "code",
   "execution_count": 16,
   "id": "35de5802",
   "metadata": {
    "execution": {
     "iopub.execute_input": "2021-12-08T01:20:37.428647Z",
     "iopub.status.busy": "2021-12-08T01:20:37.427813Z",
     "iopub.status.idle": "2021-12-08T01:20:39.850806Z",
     "shell.execute_reply": "2021-12-08T01:20:39.851529Z",
     "shell.execute_reply.started": "2021-12-08T01:02:38.234154Z"
    },
    "papermill": {
     "duration": 2.454467,
     "end_time": "2021-12-08T01:20:39.851935",
     "exception": false,
     "start_time": "2021-12-08T01:20:37.397468",
     "status": "completed"
    },
    "tags": []
   },
   "outputs": [
    {
     "name": "stdout",
     "output_type": "stream",
     "text": [
      "0.8526921678476305\n"
     ]
    }
   ],
   "source": [
    "xg_reg3 = xgb.XGBRegressor(n_estimators=900, learning_rate=0.01,  max_depth=10, \n",
    "                          eval_metric = 'rmse', objective = 'reg:squarederror', subsample = 0.25) #, gamma=0, colsample_bytree=1\n",
    "xg_reg3.fit(X_train, y_train_log_pos_cases,eval_metric='rmse', verbose=True)\n",
    "print(xg_reg3.score(X_val, y_val_log_pos_cases))\n",
    "test_pred3 = xg_reg3.predict(X_test)"
   ]
  },
  {
   "cell_type": "code",
   "execution_count": 17,
   "id": "c6bb0377",
   "metadata": {
    "execution": {
     "iopub.execute_input": "2021-12-08T01:20:39.915623Z",
     "iopub.status.busy": "2021-12-08T01:20:39.914499Z",
     "iopub.status.idle": "2021-12-08T01:20:39.917222Z",
     "shell.execute_reply": "2021-12-08T01:20:39.916498Z",
     "shell.execute_reply.started": "2021-12-08T01:02:40.982103Z"
    },
    "papermill": {
     "duration": 0.040942,
     "end_time": "2021-12-08T01:20:39.917391",
     "exception": false,
     "start_time": "2021-12-08T01:20:39.876449",
     "status": "completed"
    },
    "tags": []
   },
   "outputs": [],
   "source": [
    "##best\n",
    "# rt_reg = RandomForestRegressor(random_state=233,max_features=16, n_estimators=19)\n",
    "# rt_reg.fit(X_train_sel, y_train_log_pos_cases)\n",
    "# print(rt_reg.score(X_val_sel, y_val_log_pos_cases))\n",
    "# test_pred = rt_reg.predict(X_test_sel)"
   ]
  },
  {
   "cell_type": "code",
   "execution_count": 18,
   "id": "06bf4e9e",
   "metadata": {
    "execution": {
     "iopub.execute_input": "2021-12-08T01:20:39.979698Z",
     "iopub.status.busy": "2021-12-08T01:20:39.978046Z",
     "iopub.status.idle": "2021-12-08T01:20:39.982781Z",
     "shell.execute_reply": "2021-12-08T01:20:39.983687Z",
     "shell.execute_reply.started": "2021-12-08T01:02:40.990393Z"
    },
    "papermill": {
     "duration": 0.035619,
     "end_time": "2021-12-08T01:20:39.984040",
     "exception": false,
     "start_time": "2021-12-08T01:20:39.948421",
     "status": "completed"
    },
    "tags": []
   },
   "outputs": [],
   "source": [
    "# rt_reg = RandomForestRegressor(random_state=42)\n",
    "# rt_reg.fit(X_train_sel, y_train_log_pos_cases)\n",
    "# print(rt_reg.score(X_val_sel, y_val_log_pos_cases))\n",
    "# test_pred = rt_reg.predict(X_test_sel)"
   ]
  },
  {
   "cell_type": "markdown",
   "id": "3263655e",
   "metadata": {
    "papermill": {
     "duration": 0.022405,
     "end_time": "2021-12-08T01:20:40.031698",
     "exception": false,
     "start_time": "2021-12-08T01:20:40.009293",
     "status": "completed"
    },
    "tags": []
   },
   "source": [
    "## Modeling"
   ]
  },
  {
   "cell_type": "code",
   "execution_count": 19,
   "id": "113916ac",
   "metadata": {
    "execution": {
     "iopub.execute_input": "2021-12-08T01:20:40.083744Z",
     "iopub.status.busy": "2021-12-08T01:20:40.083020Z",
     "iopub.status.idle": "2021-12-08T01:20:40.084929Z",
     "shell.execute_reply": "2021-12-08T01:20:40.085541Z",
     "shell.execute_reply.started": "2021-12-08T01:02:41.003592Z"
    },
    "papermill": {
     "duration": 0.031171,
     "end_time": "2021-12-08T01:20:40.085758",
     "exception": false,
     "start_time": "2021-12-08T01:20:40.054587",
     "status": "completed"
    },
    "tags": []
   },
   "outputs": [],
   "source": [
    "# X_train"
   ]
  },
  {
   "cell_type": "code",
   "execution_count": 20,
   "id": "5f9b4ab1",
   "metadata": {
    "execution": {
     "iopub.execute_input": "2021-12-08T01:20:40.135725Z",
     "iopub.status.busy": "2021-12-08T01:20:40.134788Z",
     "iopub.status.idle": "2021-12-08T01:20:40.139009Z",
     "shell.execute_reply": "2021-12-08T01:20:40.138411Z",
     "shell.execute_reply.started": "2021-12-08T01:02:41.01612Z"
    },
    "papermill": {
     "duration": 0.029937,
     "end_time": "2021-12-08T01:20:40.139180",
     "exception": false,
     "start_time": "2021-12-08T01:20:40.109243",
     "status": "completed"
    },
    "tags": []
   },
   "outputs": [],
   "source": [
    "# lgbm_reg = LGBMRegressor(n_estimators = 300, class_weight = 'balanced', num_leaves = 2, max_depth = 2, boosting_type='gbdt',learning_rate=0.05)\n",
    "# lgbm_reg.fit(X_train, y_train_log_pos_cases)\n",
    "# print(lgbm_reg.get_params())\n",
    "# scores = cross_val_score(lgbm_reg, X_val,y_val_log_pos_cases, cv=5, scoring='r2')\n",
    "# print(\"%0.2f accuracy with a standard deviation of %0.2f\" % (scores.mean(), scores.std()))\n",
    "# print(lgbm_reg.score(X_val,y_val_log_pos_cases))\n",
    "# test_pred = lgbm_reg.predict(X_test)"
   ]
  },
  {
   "cell_type": "code",
   "execution_count": 21,
   "id": "a6eb0b12",
   "metadata": {
    "execution": {
     "iopub.execute_input": "2021-12-08T01:20:40.190256Z",
     "iopub.status.busy": "2021-12-08T01:20:40.189452Z",
     "iopub.status.idle": "2021-12-08T01:20:40.192111Z",
     "shell.execute_reply": "2021-12-08T01:20:40.192619Z",
     "shell.execute_reply.started": "2021-12-08T01:02:41.026027Z"
    },
    "papermill": {
     "duration": 0.031149,
     "end_time": "2021-12-08T01:20:40.192840",
     "exception": false,
     "start_time": "2021-12-08T01:20:40.161691",
     "status": "completed"
    },
    "tags": []
   },
   "outputs": [],
   "source": [
    "#test_pred"
   ]
  },
  {
   "cell_type": "code",
   "execution_count": 22,
   "id": "89f13d54",
   "metadata": {
    "execution": {
     "iopub.execute_input": "2021-12-08T01:20:40.240767Z",
     "iopub.status.busy": "2021-12-08T01:20:40.240098Z",
     "iopub.status.idle": "2021-12-08T01:20:40.248656Z",
     "shell.execute_reply": "2021-12-08T01:20:40.249225Z",
     "shell.execute_reply.started": "2021-12-08T01:02:41.036754Z"
    },
    "papermill": {
     "duration": 0.034347,
     "end_time": "2021-12-08T01:20:40.249477",
     "exception": false,
     "start_time": "2021-12-08T01:20:40.215130",
     "status": "completed"
    },
    "tags": []
   },
   "outputs": [],
   "source": [
    "import pandas as pd \n",
    "#save the prediction array test_pred into a valid submission file\n",
    "pd.DataFrame(test_pred3).to_csv(\"submission.csv\", header=[\"cases\"], index_label=\"id\")"
   ]
  }
 ],
 "metadata": {
  "kernelspec": {
   "display_name": "Python 3",
   "language": "python",
   "name": "python3"
  },
  "language_info": {
   "codemirror_mode": {
    "name": "ipython",
    "version": 3
   },
   "file_extension": ".py",
   "mimetype": "text/x-python",
   "name": "python",
   "nbconvert_exporter": "python",
   "pygments_lexer": "ipython3",
   "version": "3.7.12"
  },
  "papermill": {
   "default_parameters": {},
   "duration": 20.985684,
   "end_time": "2021-12-08T01:20:41.184785",
   "environment_variables": {},
   "exception": null,
   "input_path": "__notebook__.ipynb",
   "output_path": "__notebook__.ipynb",
   "parameters": {},
   "start_time": "2021-12-08T01:20:20.199101",
   "version": "2.3.3"
  }
 },
 "nbformat": 4,
 "nbformat_minor": 5
}
